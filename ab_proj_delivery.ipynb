{
 "cells": [
  {
   "cell_type": "code",
   "execution_count": 1,
   "metadata": {},
   "outputs": [],
   "source": [
    "import pandas as pd\n",
    "import numpy as np\n",
    "import seaborn as sns\n",
    "\n",
    "import scipy.stats as ss\n",
    "import matplotlib.pyplot as plt\n",
    "import plotly.express as px\n",
    "sns.set(rc={'figure.figsize':(8, 4)}, style=\"whitegrid\")"
   ]
  },
  {
   "cell_type": "code",
   "execution_count": 2,
   "metadata": {},
   "outputs": [
    {
     "name": "stderr",
     "output_type": "stream",
     "text": [
      "/opt/tljh/user/lib/python3.7/site-packages/outdated/utils.py:18: OutdatedCacheFailedWarning: Failed to use cache while checking for outdated package.\n",
      "Set the environment variable OUTDATED_RAISE_EXCEPTION=1 for a full traceback.\n",
      "Set the environment variable OUTDATED_IGNORE=1 to disable these warnings.\n",
      "  **kwargs\n",
      "/opt/tljh/user/lib/python3.7/site-packages/outdated/utils.py:18: OutdatedPackageWarning: The package outdated is out of date. Your version is 0.2.1, the latest is 0.2.2.\n",
      "Set the environment variable OUTDATED_IGNORE=1 to disable these warnings.\n",
      "  **kwargs\n",
      "/opt/tljh/user/lib/python3.7/site-packages/outdated/utils.py:18: OutdatedPackageWarning: The package pingouin is out of date. Your version is 0.4.0, the latest is 0.5.4.\n",
      "Set the environment variable OUTDATED_IGNORE=1 to disable these warnings.\n",
      "  **kwargs\n"
     ]
    }
   ],
   "source": [
    "import pingouin as pg\n",
    "\n",
    "import statsmodels.api as sm\n",
    "import statsmodels.formula.api as smf\n",
    "from statsmodels.stats.api import anova_lm\n",
    "from statsmodels.stats.multicomp import (pairwise_tukeyhsd,\n",
    "                                         MultiComparison)\n",
    "from sklearn.cluster import AgglomerativeClustering"
   ]
  },
  {
   "cell_type": "markdown",
   "metadata": {},
   "source": [
    "**Приложение доставки**  \n",
    "\n",
    "В приложение по доставке продуктов внедрена умная система рекомендаций товаров – предполагается, что такая система поможет пользователям эффективнее работать с приложением и лучше находить необходимые товары.  \n",
    "\n",
    "Чтобы проверить эффективность системы рекомендаций, был проведен АБ-тест. В группе 1: пользователи с новой системой рекомендаций, в группе 0: пользователи со старой версией приложения, где нет рекомендации товаров.  \n",
    "\n",
    "Необходимо оценить, смогла ли новая система рекомендаций принести пользу бизнесу и пользователям приложения. Для этого нужно выбрать метрики, которые отвечают за качество сервиса, и статистически сравнить эти метрики в двух группах.  \n",
    "\n",
    "Дать аналитическое заключение с ответом на вопрос, стоит ли включать новую систему рекомендаций на всех пользователей.  \n",
    "\n",
    "В данных - логи заказов пользователей:  \n",
    "\n",
    "- ab_users_data – история заказов пользователей, в этой таблице есть информация о том, какие заказы создавали и отменяли пользователи  \n",
    "- ab_orders – подробная информация о составе заказа, тут для каждого заказа есть список id тех продуктов, которые были включены в заказ  \n",
    "- ab_products – подробная информация о продуктах, их название и стоимость  "
   ]
  },
  {
   "cell_type": "code",
   "execution_count": 3,
   "metadata": {},
   "outputs": [
    {
     "data": {
      "text/html": [
       "<div>\n",
       "<style scoped>\n",
       "    .dataframe tbody tr th:only-of-type {\n",
       "        vertical-align: middle;\n",
       "    }\n",
       "\n",
       "    .dataframe tbody tr th {\n",
       "        vertical-align: top;\n",
       "    }\n",
       "\n",
       "    .dataframe thead th {\n",
       "        text-align: right;\n",
       "    }\n",
       "</style>\n",
       "<table border=\"1\" class=\"dataframe\">\n",
       "  <thead>\n",
       "    <tr style=\"text-align: right;\">\n",
       "      <th></th>\n",
       "      <th>user_id</th>\n",
       "      <th>order_id</th>\n",
       "      <th>action</th>\n",
       "      <th>time</th>\n",
       "      <th>date</th>\n",
       "      <th>group</th>\n",
       "    </tr>\n",
       "  </thead>\n",
       "  <tbody>\n",
       "    <tr>\n",
       "      <th>0</th>\n",
       "      <td>964</td>\n",
       "      <td>1255</td>\n",
       "      <td>create_order</td>\n",
       "      <td>2022-08-26 00:00:19</td>\n",
       "      <td>2022-08-26</td>\n",
       "      <td>0</td>\n",
       "    </tr>\n",
       "    <tr>\n",
       "      <th>1</th>\n",
       "      <td>965</td>\n",
       "      <td>1256</td>\n",
       "      <td>create_order</td>\n",
       "      <td>2022-08-26 00:02:21</td>\n",
       "      <td>2022-08-26</td>\n",
       "      <td>1</td>\n",
       "    </tr>\n",
       "    <tr>\n",
       "      <th>2</th>\n",
       "      <td>964</td>\n",
       "      <td>1257</td>\n",
       "      <td>create_order</td>\n",
       "      <td>2022-08-26 00:02:27</td>\n",
       "      <td>2022-08-26</td>\n",
       "      <td>0</td>\n",
       "    </tr>\n",
       "    <tr>\n",
       "      <th>3</th>\n",
       "      <td>966</td>\n",
       "      <td>1258</td>\n",
       "      <td>create_order</td>\n",
       "      <td>2022-08-26 00:02:56</td>\n",
       "      <td>2022-08-26</td>\n",
       "      <td>0</td>\n",
       "    </tr>\n",
       "    <tr>\n",
       "      <th>4</th>\n",
       "      <td>967</td>\n",
       "      <td>1259</td>\n",
       "      <td>create_order</td>\n",
       "      <td>2022-08-26 00:03:37</td>\n",
       "      <td>2022-08-26</td>\n",
       "      <td>1</td>\n",
       "    </tr>\n",
       "    <tr>\n",
       "      <th>5</th>\n",
       "      <td>968</td>\n",
       "      <td>1261</td>\n",
       "      <td>create_order</td>\n",
       "      <td>2022-08-26 00:05:35</td>\n",
       "      <td>2022-08-26</td>\n",
       "      <td>0</td>\n",
       "    </tr>\n",
       "    <tr>\n",
       "      <th>6</th>\n",
       "      <td>969</td>\n",
       "      <td>1262</td>\n",
       "      <td>create_order</td>\n",
       "      <td>2022-08-26 00:06:25</td>\n",
       "      <td>2022-08-26</td>\n",
       "      <td>0</td>\n",
       "    </tr>\n",
       "  </tbody>\n",
       "</table>\n",
       "</div>"
      ],
      "text/plain": [
       "   user_id  order_id        action                time       date  group\n",
       "0      964      1255  create_order 2022-08-26 00:00:19 2022-08-26      0\n",
       "1      965      1256  create_order 2022-08-26 00:02:21 2022-08-26      1\n",
       "2      964      1257  create_order 2022-08-26 00:02:27 2022-08-26      0\n",
       "3      966      1258  create_order 2022-08-26 00:02:56 2022-08-26      0\n",
       "4      967      1259  create_order 2022-08-26 00:03:37 2022-08-26      1\n",
       "5      968      1261  create_order 2022-08-26 00:05:35 2022-08-26      0\n",
       "6      969      1262  create_order 2022-08-26 00:06:25 2022-08-26      0"
      ]
     },
     "execution_count": 3,
     "metadata": {},
     "output_type": "execute_result"
    }
   ],
   "source": [
    "path = '/mnt/HC_Volume_18315164/home-jupyter/jupyter-d-gazizova/MathStat/ab_users_data.csv'\n",
    "users = pd.read_csv(path, parse_dates=['time', 'date'])  \n",
    "users.head(7)"
   ]
  },
  {
   "cell_type": "code",
   "execution_count": 4,
   "metadata": {},
   "outputs": [
    {
     "data": {
      "text/plain": [
       "(4337, 6)"
      ]
     },
     "execution_count": 4,
     "metadata": {},
     "output_type": "execute_result"
    }
   ],
   "source": [
    "users.shape"
   ]
  },
  {
   "cell_type": "code",
   "execution_count": 5,
   "metadata": {},
   "outputs": [
    {
     "data": {
      "text/plain": [
       "user_id              int64\n",
       "order_id             int64\n",
       "action              object\n",
       "time        datetime64[ns]\n",
       "date        datetime64[ns]\n",
       "group                int64\n",
       "dtype: object"
      ]
     },
     "execution_count": 5,
     "metadata": {},
     "output_type": "execute_result"
    }
   ],
   "source": [
    "users.dtypes"
   ]
  },
  {
   "cell_type": "code",
   "execution_count": 6,
   "metadata": {},
   "outputs": [
    {
     "data": {
      "text/plain": [
       "user_id     1017\n",
       "order_id    4123\n",
       "action         2\n",
       "time        4312\n",
       "date          14\n",
       "group          2\n",
       "dtype: int64"
      ]
     },
     "execution_count": 6,
     "metadata": {},
     "output_type": "execute_result"
    }
   ],
   "source": [
    "users.nunique()"
   ]
  },
  {
   "cell_type": "code",
   "execution_count": 7,
   "metadata": {},
   "outputs": [
    {
     "data": {
      "text/plain": [
       "502"
      ]
     },
     "execution_count": 7,
     "metadata": {},
     "output_type": "execute_result"
    }
   ],
   "source": [
    "# количество пользователей группы  1\n",
    "\n",
    "users.query(\"group == 1\").user_id.nunique()"
   ]
  },
  {
   "cell_type": "code",
   "execution_count": 8,
   "metadata": {},
   "outputs": [
    {
     "data": {
      "text/plain": [
       "515"
      ]
     },
     "execution_count": 8,
     "metadata": {},
     "output_type": "execute_result"
    }
   ],
   "source": [
    "# количество пользователей группы  0\n",
    "\n",
    "users.query(\"group == 0\").user_id.nunique()"
   ]
  },
  {
   "cell_type": "code",
   "execution_count": 9,
   "metadata": {},
   "outputs": [
    {
     "data": {
      "text/plain": [
       "array(['create_order', 'cancel_order'], dtype=object)"
      ]
     },
     "execution_count": 9,
     "metadata": {},
     "output_type": "execute_result"
    }
   ],
   "source": [
    "# какие действия совершают\n",
    "\n",
    "users.action.unique()"
   ]
  },
  {
   "cell_type": "markdown",
   "metadata": {},
   "source": [
    "В этой таблице представлена история заказов пользователей, а также есть информация о том, какие заказы создавали и отменяли пользователи.  \n",
    "Посмотрим, сколько созданных и отмененных заказов в двух группах. Количество пользователей в группах примерно одинаковое - чуть более 500 пользователей. "
   ]
  },
  {
   "cell_type": "code",
   "execution_count": 10,
   "metadata": {},
   "outputs": [
    {
     "data": {
      "text/html": [
       "<div>\n",
       "<style scoped>\n",
       "    .dataframe tbody tr th:only-of-type {\n",
       "        vertical-align: middle;\n",
       "    }\n",
       "\n",
       "    .dataframe tbody tr th {\n",
       "        vertical-align: top;\n",
       "    }\n",
       "\n",
       "    .dataframe thead th {\n",
       "        text-align: right;\n",
       "    }\n",
       "</style>\n",
       "<table border=\"1\" class=\"dataframe\">\n",
       "  <thead>\n",
       "    <tr style=\"text-align: right;\">\n",
       "      <th></th>\n",
       "      <th></th>\n",
       "      <th>sum</th>\n",
       "    </tr>\n",
       "    <tr>\n",
       "      <th>group</th>\n",
       "      <th>action</th>\n",
       "      <th></th>\n",
       "    </tr>\n",
       "  </thead>\n",
       "  <tbody>\n",
       "    <tr>\n",
       "      <th rowspan=\"2\" valign=\"top\">0</th>\n",
       "      <th>cancel_order</th>\n",
       "      <td>82</td>\n",
       "    </tr>\n",
       "    <tr>\n",
       "      <th>create_order</th>\n",
       "      <td>1609</td>\n",
       "    </tr>\n",
       "    <tr>\n",
       "      <th rowspan=\"2\" valign=\"top\">1</th>\n",
       "      <th>cancel_order</th>\n",
       "      <td>132</td>\n",
       "    </tr>\n",
       "    <tr>\n",
       "      <th>create_order</th>\n",
       "      <td>2514</td>\n",
       "    </tr>\n",
       "  </tbody>\n",
       "</table>\n",
       "</div>"
      ],
      "text/plain": [
       "                     sum\n",
       "group action            \n",
       "0     cancel_order    82\n",
       "      create_order  1609\n",
       "1     cancel_order   132\n",
       "      create_order  2514"
      ]
     },
     "execution_count": 10,
     "metadata": {},
     "output_type": "execute_result"
    }
   ],
   "source": [
    "# сколько созданных и отмененных заказов в двух группах\n",
    "\n",
    "df = users.groupby(['group', 'action']) \\\n",
    "          .agg({'action':'count'}).rename(columns={'action':'sum'})\n",
    "df"
   ]
  },
  {
   "cell_type": "code",
   "execution_count": 11,
   "metadata": {},
   "outputs": [
    {
     "data": {
      "text/html": [
       "<div>\n",
       "<style scoped>\n",
       "    .dataframe tbody tr th:only-of-type {\n",
       "        vertical-align: middle;\n",
       "    }\n",
       "\n",
       "    .dataframe tbody tr th {\n",
       "        vertical-align: top;\n",
       "    }\n",
       "\n",
       "    .dataframe thead th {\n",
       "        text-align: right;\n",
       "    }\n",
       "</style>\n",
       "<table border=\"1\" class=\"dataframe\">\n",
       "  <thead>\n",
       "    <tr style=\"text-align: right;\">\n",
       "      <th></th>\n",
       "      <th>group</th>\n",
       "      <th>size</th>\n",
       "    </tr>\n",
       "  </thead>\n",
       "  <tbody>\n",
       "    <tr>\n",
       "      <th>0</th>\n",
       "      <td>0</td>\n",
       "      <td>1691</td>\n",
       "    </tr>\n",
       "    <tr>\n",
       "      <th>1</th>\n",
       "      <td>1</td>\n",
       "      <td>2646</td>\n",
       "    </tr>\n",
       "  </tbody>\n",
       "</table>\n",
       "</div>"
      ],
      "text/plain": [
       "   group  size\n",
       "0      0  1691\n",
       "1      1  2646"
      ]
     },
     "execution_count": 11,
     "metadata": {},
     "output_type": "execute_result"
    }
   ],
   "source": [
    "# посмотрим размер групп\n",
    "users.groupby(\"group\", as_index=False).size()"
   ]
  },
  {
   "cell_type": "code",
   "execution_count": 12,
   "metadata": {},
   "outputs": [
    {
     "data": {
      "text/plain": [
       "create_order    95.011338\n",
       "cancel_order     4.988662\n",
       "Name: action, dtype: float64"
      ]
     },
     "execution_count": 12,
     "metadata": {},
     "output_type": "execute_result"
    }
   ],
   "source": [
    "# смотрим процентное соотношение созданных и отмененных заказов в группе 1\n",
    "\n",
    "df1 = users.query(\"group == 1\")\n",
    "df1.action.value_counts(normalize=True).mul(100)"
   ]
  },
  {
   "cell_type": "code",
   "execution_count": 13,
   "metadata": {},
   "outputs": [
    {
     "data": {
      "text/plain": [
       "create_order    95.150798\n",
       "cancel_order     4.849202\n",
       "Name: action, dtype: float64"
      ]
     },
     "execution_count": 13,
     "metadata": {},
     "output_type": "execute_result"
    }
   ],
   "source": [
    "# смотрим процентное соотношение созданных и отмененных заказов в группе 0 \n",
    "\n",
    "df0 = users.query(\"group == 0\")\n",
    "df0.action.value_counts(normalize=True).mul(100)"
   ]
  },
  {
   "cell_type": "code",
   "execution_count": 14,
   "metadata": {},
   "outputs": [
    {
     "data": {
      "text/plain": [
       "<seaborn.axisgrid.FacetGrid at 0x7fdd381317f0>"
      ]
     },
     "execution_count": 14,
     "metadata": {},
     "output_type": "execute_result"
    },
    {
     "data": {
      "image/png": "[encoded data removed]",
      "text/plain": [
       "<Figure size 470.725x360 with 1 Axes>"
      ]
     },
     "metadata": {},
     "output_type": "display_data"
    }
   ],
   "source": [
    "# построим диаграмму и посмотрим визуально на различия\n",
    "    \n",
    "sns.displot(data=users[['group', 'action']].dropna(), x=\"group\", hue=\"action\", bins=2)"
   ]
  },
  {
   "cell_type": "markdown",
   "metadata": {},
   "source": [
    "В группе 1 мы видим существенную разницу в количестве созданных заказов, при этом, можно наблюдать, что процент отмен в обоих случаях одинаковый и равен примерно 5%.  \n",
    "\n",
    "Можно рассмотреть следующие метрики:\n",
    "- количество и сумма заказов по группам,  \n",
    "- средняя сумма покупки (стоимость одного заказа пользователя),\n",
    "- общая стоимость всех заказов по группам.\n"
   ]
  },
  {
   "cell_type": "code",
   "execution_count": null,
   "metadata": {},
   "outputs": [],
   "source": []
  },
  {
   "cell_type": "code",
   "execution_count": 15,
   "metadata": {},
   "outputs": [
    {
     "data": {
      "text/html": [
       "<div>\n",
       "<style scoped>\n",
       "    .dataframe tbody tr th:only-of-type {\n",
       "        vertical-align: middle;\n",
       "    }\n",
       "\n",
       "    .dataframe tbody tr th {\n",
       "        vertical-align: top;\n",
       "    }\n",
       "\n",
       "    .dataframe thead th {\n",
       "        text-align: right;\n",
       "    }\n",
       "</style>\n",
       "<table border=\"1\" class=\"dataframe\">\n",
       "  <thead>\n",
       "    <tr style=\"text-align: right;\">\n",
       "      <th></th>\n",
       "      <th>order_id</th>\n",
       "      <th>creation_time</th>\n",
       "      <th>product_ids</th>\n",
       "    </tr>\n",
       "  </thead>\n",
       "  <tbody>\n",
       "    <tr>\n",
       "      <th>0</th>\n",
       "      <td>1255</td>\n",
       "      <td>2022-08-26 00:00:19</td>\n",
       "      <td>{75, 22, 53, 84}</td>\n",
       "    </tr>\n",
       "    <tr>\n",
       "      <th>1</th>\n",
       "      <td>1256</td>\n",
       "      <td>2022-08-26 00:02:21</td>\n",
       "      <td>{56, 76, 39}</td>\n",
       "    </tr>\n",
       "    <tr>\n",
       "      <th>2</th>\n",
       "      <td>1257</td>\n",
       "      <td>2022-08-26 00:02:27</td>\n",
       "      <td>{76, 34, 41, 38}</td>\n",
       "    </tr>\n",
       "    <tr>\n",
       "      <th>3</th>\n",
       "      <td>1258</td>\n",
       "      <td>2022-08-26 00:02:56</td>\n",
       "      <td>{74, 6}</td>\n",
       "    </tr>\n",
       "    <tr>\n",
       "      <th>4</th>\n",
       "      <td>1259</td>\n",
       "      <td>2022-08-26 00:03:37</td>\n",
       "      <td>{20, 45, 67, 26}</td>\n",
       "    </tr>\n",
       "    <tr>\n",
       "      <th>5</th>\n",
       "      <td>1261</td>\n",
       "      <td>2022-08-26 00:05:35</td>\n",
       "      <td>{30, 35, 69, 6}</td>\n",
       "    </tr>\n",
       "    <tr>\n",
       "      <th>6</th>\n",
       "      <td>1262</td>\n",
       "      <td>2022-08-26 00:06:25</td>\n",
       "      <td>{23, 69, 45, 33}</td>\n",
       "    </tr>\n",
       "  </tbody>\n",
       "</table>\n",
       "</div>"
      ],
      "text/plain": [
       "   order_id       creation_time       product_ids\n",
       "0      1255 2022-08-26 00:00:19  {75, 22, 53, 84}\n",
       "1      1256 2022-08-26 00:02:21      {56, 76, 39}\n",
       "2      1257 2022-08-26 00:02:27  {76, 34, 41, 38}\n",
       "3      1258 2022-08-26 00:02:56           {74, 6}\n",
       "4      1259 2022-08-26 00:03:37  {20, 45, 67, 26}\n",
       "5      1261 2022-08-26 00:05:35   {30, 35, 69, 6}\n",
       "6      1262 2022-08-26 00:06:25  {23, 69, 45, 33}"
      ]
     },
     "execution_count": 15,
     "metadata": {},
     "output_type": "execute_result"
    }
   ],
   "source": [
    "path = '/mnt/HC_Volume_18315164/home-jupyter/jupyter-d-gazizova/MathStat/ab_orders.csv'\n",
    "orders = pd.read_csv(path, parse_dates=['creation_time'])  \n",
    "orders.head(7)"
   ]
  },
  {
   "cell_type": "code",
   "execution_count": 16,
   "metadata": {},
   "outputs": [
    {
     "data": {
      "text/plain": [
       "(4123, 3)"
      ]
     },
     "execution_count": 16,
     "metadata": {},
     "output_type": "execute_result"
    }
   ],
   "source": [
    "orders.shape"
   ]
  },
  {
   "cell_type": "code",
   "execution_count": 17,
   "metadata": {},
   "outputs": [
    {
     "data": {
      "text/plain": [
       "order_id         4123\n",
       "creation_time    4098\n",
       "product_ids      3877\n",
       "dtype: int64"
      ]
     },
     "execution_count": 17,
     "metadata": {},
     "output_type": "execute_result"
    }
   ],
   "source": [
    "orders.nunique()"
   ]
  },
  {
   "cell_type": "code",
   "execution_count": 18,
   "metadata": {},
   "outputs": [
    {
     "data": {
      "text/plain": [
       "order_id                  int64\n",
       "creation_time    datetime64[ns]\n",
       "product_ids              object\n",
       "dtype: object"
      ]
     },
     "execution_count": 18,
     "metadata": {},
     "output_type": "execute_result"
    }
   ],
   "source": [
    "orders.dtypes"
   ]
  },
  {
   "cell_type": "code",
   "execution_count": 19,
   "metadata": {},
   "outputs": [],
   "source": [
    "# преобразуем значения в столбце product_ids в список, чтобы было удобней работать с данными\n",
    "\n",
    "orders.product_ids = orders.product_ids.apply(lambda x: x.replace('{','').replace('}','').split(', '))"
   ]
  },
  {
   "cell_type": "code",
   "execution_count": 20,
   "metadata": {},
   "outputs": [
    {
     "data": {
      "text/html": [
       "<div>\n",
       "<style scoped>\n",
       "    .dataframe tbody tr th:only-of-type {\n",
       "        vertical-align: middle;\n",
       "    }\n",
       "\n",
       "    .dataframe tbody tr th {\n",
       "        vertical-align: top;\n",
       "    }\n",
       "\n",
       "    .dataframe thead th {\n",
       "        text-align: right;\n",
       "    }\n",
       "</style>\n",
       "<table border=\"1\" class=\"dataframe\">\n",
       "  <thead>\n",
       "    <tr style=\"text-align: right;\">\n",
       "      <th></th>\n",
       "      <th>order_id</th>\n",
       "      <th>creation_time</th>\n",
       "      <th>product_ids</th>\n",
       "    </tr>\n",
       "  </thead>\n",
       "  <tbody>\n",
       "    <tr>\n",
       "      <th>0</th>\n",
       "      <td>1255</td>\n",
       "      <td>2022-08-26 00:00:19</td>\n",
       "      <td>[75, 22, 53, 84]</td>\n",
       "    </tr>\n",
       "    <tr>\n",
       "      <th>1</th>\n",
       "      <td>1256</td>\n",
       "      <td>2022-08-26 00:02:21</td>\n",
       "      <td>[56, 76, 39]</td>\n",
       "    </tr>\n",
       "    <tr>\n",
       "      <th>2</th>\n",
       "      <td>1257</td>\n",
       "      <td>2022-08-26 00:02:27</td>\n",
       "      <td>[76, 34, 41, 38]</td>\n",
       "    </tr>\n",
       "    <tr>\n",
       "      <th>3</th>\n",
       "      <td>1258</td>\n",
       "      <td>2022-08-26 00:02:56</td>\n",
       "      <td>[74, 6]</td>\n",
       "    </tr>\n",
       "    <tr>\n",
       "      <th>4</th>\n",
       "      <td>1259</td>\n",
       "      <td>2022-08-26 00:03:37</td>\n",
       "      <td>[20, 45, 67, 26]</td>\n",
       "    </tr>\n",
       "  </tbody>\n",
       "</table>\n",
       "</div>"
      ],
      "text/plain": [
       "   order_id       creation_time       product_ids\n",
       "0      1255 2022-08-26 00:00:19  [75, 22, 53, 84]\n",
       "1      1256 2022-08-26 00:02:21      [56, 76, 39]\n",
       "2      1257 2022-08-26 00:02:27  [76, 34, 41, 38]\n",
       "3      1258 2022-08-26 00:02:56           [74, 6]\n",
       "4      1259 2022-08-26 00:03:37  [20, 45, 67, 26]"
      ]
     },
     "execution_count": 20,
     "metadata": {},
     "output_type": "execute_result"
    }
   ],
   "source": [
    "orders.head()"
   ]
  },
  {
   "cell_type": "code",
   "execution_count": null,
   "metadata": {},
   "outputs": [],
   "source": []
  },
  {
   "cell_type": "code",
   "execution_count": 21,
   "metadata": {},
   "outputs": [
    {
     "data": {
      "text/html": [
       "<div>\n",
       "<style scoped>\n",
       "    .dataframe tbody tr th:only-of-type {\n",
       "        vertical-align: middle;\n",
       "    }\n",
       "\n",
       "    .dataframe tbody tr th {\n",
       "        vertical-align: top;\n",
       "    }\n",
       "\n",
       "    .dataframe thead th {\n",
       "        text-align: right;\n",
       "    }\n",
       "</style>\n",
       "<table border=\"1\" class=\"dataframe\">\n",
       "  <thead>\n",
       "    <tr style=\"text-align: right;\">\n",
       "      <th></th>\n",
       "      <th>product_id</th>\n",
       "      <th>name</th>\n",
       "      <th>price</th>\n",
       "    </tr>\n",
       "  </thead>\n",
       "  <tbody>\n",
       "    <tr>\n",
       "      <th>0</th>\n",
       "      <td>1</td>\n",
       "      <td>сахар</td>\n",
       "      <td>150.0</td>\n",
       "    </tr>\n",
       "    <tr>\n",
       "      <th>1</th>\n",
       "      <td>2</td>\n",
       "      <td>чай зеленый в пакетиках</td>\n",
       "      <td>50.0</td>\n",
       "    </tr>\n",
       "    <tr>\n",
       "      <th>2</th>\n",
       "      <td>3</td>\n",
       "      <td>вода негазированная</td>\n",
       "      <td>80.4</td>\n",
       "    </tr>\n",
       "    <tr>\n",
       "      <th>3</th>\n",
       "      <td>4</td>\n",
       "      <td>леденцы</td>\n",
       "      <td>45.5</td>\n",
       "    </tr>\n",
       "    <tr>\n",
       "      <th>4</th>\n",
       "      <td>5</td>\n",
       "      <td>кофе 3 в 1</td>\n",
       "      <td>15.0</td>\n",
       "    </tr>\n",
       "    <tr>\n",
       "      <th>5</th>\n",
       "      <td>6</td>\n",
       "      <td>сухарики</td>\n",
       "      <td>25.0</td>\n",
       "    </tr>\n",
       "    <tr>\n",
       "      <th>6</th>\n",
       "      <td>7</td>\n",
       "      <td>кофе зерновой</td>\n",
       "      <td>350.8</td>\n",
       "    </tr>\n",
       "  </tbody>\n",
       "</table>\n",
       "</div>"
      ],
      "text/plain": [
       "   product_id                     name  price\n",
       "0           1                    сахар  150.0\n",
       "1           2  чай зеленый в пакетиках   50.0\n",
       "2           3      вода негазированная   80.4\n",
       "3           4                  леденцы   45.5\n",
       "4           5               кофе 3 в 1   15.0\n",
       "5           6                 сухарики   25.0\n",
       "6           7            кофе зерновой  350.8"
      ]
     },
     "execution_count": 21,
     "metadata": {},
     "output_type": "execute_result"
    }
   ],
   "source": [
    "path = '/mnt/HC_Volume_18315164/home-jupyter/jupyter-d-gazizova/MathStat/ab_products.csv'\n",
    "products = pd.read_csv(path)  \n",
    "products.head(7)"
   ]
  },
  {
   "cell_type": "code",
   "execution_count": 22,
   "metadata": {},
   "outputs": [
    {
     "data": {
      "text/plain": [
       "(87, 3)"
      ]
     },
     "execution_count": 22,
     "metadata": {},
     "output_type": "execute_result"
    }
   ],
   "source": [
    "products.shape"
   ]
  },
  {
   "cell_type": "code",
   "execution_count": 23,
   "metadata": {},
   "outputs": [
    {
     "data": {
      "text/plain": [
       "product_id    87\n",
       "name          87\n",
       "price         63\n",
       "dtype: int64"
      ]
     },
     "execution_count": 23,
     "metadata": {},
     "output_type": "execute_result"
    }
   ],
   "source": [
    "products.nunique()"
   ]
  },
  {
   "cell_type": "code",
   "execution_count": 24,
   "metadata": {},
   "outputs": [
    {
     "data": {
      "text/plain": [
       "product_id      int64\n",
       "name           object\n",
       "price         float64\n",
       "dtype: object"
      ]
     },
     "execution_count": 24,
     "metadata": {},
     "output_type": "execute_result"
    }
   ],
   "source": [
    "products.dtypes"
   ]
  },
  {
   "cell_type": "code",
   "execution_count": 25,
   "metadata": {},
   "outputs": [
    {
     "data": {
      "text/html": [
       "<div>\n",
       "<style scoped>\n",
       "    .dataframe tbody tr th:only-of-type {\n",
       "        vertical-align: middle;\n",
       "    }\n",
       "\n",
       "    .dataframe tbody tr th {\n",
       "        vertical-align: top;\n",
       "    }\n",
       "\n",
       "    .dataframe thead th {\n",
       "        text-align: right;\n",
       "    }\n",
       "</style>\n",
       "<table border=\"1\" class=\"dataframe\">\n",
       "  <thead>\n",
       "    <tr style=\"text-align: right;\">\n",
       "      <th></th>\n",
       "      <th>name</th>\n",
       "      <th>price</th>\n",
       "    </tr>\n",
       "    <tr>\n",
       "      <th>product_id</th>\n",
       "      <th></th>\n",
       "      <th></th>\n",
       "    </tr>\n",
       "  </thead>\n",
       "  <tbody>\n",
       "    <tr>\n",
       "      <th>1</th>\n",
       "      <td>сахар</td>\n",
       "      <td>150.0</td>\n",
       "    </tr>\n",
       "    <tr>\n",
       "      <th>2</th>\n",
       "      <td>чай зеленый в пакетиках</td>\n",
       "      <td>50.0</td>\n",
       "    </tr>\n",
       "    <tr>\n",
       "      <th>3</th>\n",
       "      <td>вода негазированная</td>\n",
       "      <td>80.4</td>\n",
       "    </tr>\n",
       "    <tr>\n",
       "      <th>4</th>\n",
       "      <td>леденцы</td>\n",
       "      <td>45.5</td>\n",
       "    </tr>\n",
       "    <tr>\n",
       "      <th>5</th>\n",
       "      <td>кофе 3 в 1</td>\n",
       "      <td>15.0</td>\n",
       "    </tr>\n",
       "    <tr>\n",
       "      <th>...</th>\n",
       "      <td>...</td>\n",
       "      <td>...</td>\n",
       "    </tr>\n",
       "    <tr>\n",
       "      <th>83</th>\n",
       "      <td>вафли</td>\n",
       "      <td>55.0</td>\n",
       "    </tr>\n",
       "    <tr>\n",
       "      <th>84</th>\n",
       "      <td>мандарины</td>\n",
       "      <td>90.4</td>\n",
       "    </tr>\n",
       "    <tr>\n",
       "      <th>85</th>\n",
       "      <td>варенье</td>\n",
       "      <td>200.3</td>\n",
       "    </tr>\n",
       "    <tr>\n",
       "      <th>86</th>\n",
       "      <td>кофе холодный</td>\n",
       "      <td>70.3</td>\n",
       "    </tr>\n",
       "    <tr>\n",
       "      <th>87</th>\n",
       "      <td>телятина</td>\n",
       "      <td>398.3</td>\n",
       "    </tr>\n",
       "  </tbody>\n",
       "</table>\n",
       "<p>87 rows × 2 columns</p>\n",
       "</div>"
      ],
      "text/plain": [
       "                               name  price\n",
       "product_id                                \n",
       "1                             сахар  150.0\n",
       "2           чай зеленый в пакетиках   50.0\n",
       "3               вода негазированная   80.4\n",
       "4                           леденцы   45.5\n",
       "5                        кофе 3 в 1   15.0\n",
       "...                             ...    ...\n",
       "83                            вафли   55.0\n",
       "84                        мандарины   90.4\n",
       "85                          варенье  200.3\n",
       "86                    кофе холодный   70.3\n",
       "87                         телятина  398.3\n",
       "\n",
       "[87 rows x 2 columns]"
      ]
     },
     "execution_count": 25,
     "metadata": {},
     "output_type": "execute_result"
    }
   ],
   "source": [
    "# установим в качестве индекса product_id\n",
    "\n",
    "products = products.set_index('product_id')\n",
    "products"
   ]
  },
  {
   "cell_type": "code",
   "execution_count": null,
   "metadata": {},
   "outputs": [],
   "source": []
  },
  {
   "cell_type": "code",
   "execution_count": 26,
   "metadata": {},
   "outputs": [
    {
     "data": {
      "text/html": [
       "<div>\n",
       "<style scoped>\n",
       "    .dataframe tbody tr th:only-of-type {\n",
       "        vertical-align: middle;\n",
       "    }\n",
       "\n",
       "    .dataframe tbody tr th {\n",
       "        vertical-align: top;\n",
       "    }\n",
       "\n",
       "    .dataframe thead th {\n",
       "        text-align: right;\n",
       "    }\n",
       "</style>\n",
       "<table border=\"1\" class=\"dataframe\">\n",
       "  <thead>\n",
       "    <tr style=\"text-align: right;\">\n",
       "      <th></th>\n",
       "      <th>user_id</th>\n",
       "      <th>order_id</th>\n",
       "      <th>action</th>\n",
       "      <th>time</th>\n",
       "      <th>date</th>\n",
       "      <th>group</th>\n",
       "      <th>creation_time</th>\n",
       "      <th>product_ids</th>\n",
       "    </tr>\n",
       "  </thead>\n",
       "  <tbody>\n",
       "    <tr>\n",
       "      <th>0</th>\n",
       "      <td>964</td>\n",
       "      <td>1255</td>\n",
       "      <td>create_order</td>\n",
       "      <td>2022-08-26 00:00:19.000000</td>\n",
       "      <td>2022-08-26</td>\n",
       "      <td>0</td>\n",
       "      <td>2022-08-26 00:00:19</td>\n",
       "      <td>[75, 22, 53, 84]</td>\n",
       "    </tr>\n",
       "    <tr>\n",
       "      <th>1</th>\n",
       "      <td>965</td>\n",
       "      <td>1256</td>\n",
       "      <td>create_order</td>\n",
       "      <td>2022-08-26 00:02:21.000000</td>\n",
       "      <td>2022-08-26</td>\n",
       "      <td>1</td>\n",
       "      <td>2022-08-26 00:02:21</td>\n",
       "      <td>[56, 76, 39]</td>\n",
       "    </tr>\n",
       "    <tr>\n",
       "      <th>2</th>\n",
       "      <td>964</td>\n",
       "      <td>1257</td>\n",
       "      <td>create_order</td>\n",
       "      <td>2022-08-26 00:02:27.000000</td>\n",
       "      <td>2022-08-26</td>\n",
       "      <td>0</td>\n",
       "      <td>2022-08-26 00:02:27</td>\n",
       "      <td>[76, 34, 41, 38]</td>\n",
       "    </tr>\n",
       "    <tr>\n",
       "      <th>3</th>\n",
       "      <td>966</td>\n",
       "      <td>1258</td>\n",
       "      <td>create_order</td>\n",
       "      <td>2022-08-26 00:02:56.000000</td>\n",
       "      <td>2022-08-26</td>\n",
       "      <td>0</td>\n",
       "      <td>2022-08-26 00:02:56</td>\n",
       "      <td>[74, 6]</td>\n",
       "    </tr>\n",
       "    <tr>\n",
       "      <th>4</th>\n",
       "      <td>966</td>\n",
       "      <td>1258</td>\n",
       "      <td>cancel_order</td>\n",
       "      <td>2022-08-26 00:08:25.486419</td>\n",
       "      <td>2022-08-26</td>\n",
       "      <td>0</td>\n",
       "      <td>2022-08-26 00:02:56</td>\n",
       "      <td>[74, 6]</td>\n",
       "    </tr>\n",
       "    <tr>\n",
       "      <th>...</th>\n",
       "      <td>...</td>\n",
       "      <td>...</td>\n",
       "      <td>...</td>\n",
       "      <td>...</td>\n",
       "      <td>...</td>\n",
       "      <td>...</td>\n",
       "      <td>...</td>\n",
       "      <td>...</td>\n",
       "    </tr>\n",
       "    <tr>\n",
       "      <th>4332</th>\n",
       "      <td>990</td>\n",
       "      <td>59422</td>\n",
       "      <td>create_order</td>\n",
       "      <td>2022-09-08 23:13:03.000000</td>\n",
       "      <td>2022-09-08</td>\n",
       "      <td>1</td>\n",
       "      <td>2022-09-08 23:13:03</td>\n",
       "      <td>[84, 8, 24]</td>\n",
       "    </tr>\n",
       "    <tr>\n",
       "      <th>4333</th>\n",
       "      <td>1418</td>\n",
       "      <td>59439</td>\n",
       "      <td>create_order</td>\n",
       "      <td>2022-09-08 23:18:05.000000</td>\n",
       "      <td>2022-09-08</td>\n",
       "      <td>1</td>\n",
       "      <td>2022-09-08 23:18:05</td>\n",
       "      <td>[9, 25, 75, 30, 6]</td>\n",
       "    </tr>\n",
       "    <tr>\n",
       "      <th>4334</th>\n",
       "      <td>1605</td>\n",
       "      <td>59464</td>\n",
       "      <td>create_order</td>\n",
       "      <td>2022-09-08 23:22:27.000000</td>\n",
       "      <td>2022-09-08</td>\n",
       "      <td>0</td>\n",
       "      <td>2022-09-08 23:22:27</td>\n",
       "      <td>[60, 41, 46]</td>\n",
       "    </tr>\n",
       "    <tr>\n",
       "      <th>4335</th>\n",
       "      <td>1461</td>\n",
       "      <td>59487</td>\n",
       "      <td>create_order</td>\n",
       "      <td>2022-09-08 23:29:06.000000</td>\n",
       "      <td>2022-09-08</td>\n",
       "      <td>0</td>\n",
       "      <td>2022-09-08 23:29:06</td>\n",
       "      <td>[9, 62, 77]</td>\n",
       "    </tr>\n",
       "    <tr>\n",
       "      <th>4336</th>\n",
       "      <td>1376</td>\n",
       "      <td>59533</td>\n",
       "      <td>create_order</td>\n",
       "      <td>2022-09-08 23:41:24.000000</td>\n",
       "      <td>2022-09-08</td>\n",
       "      <td>0</td>\n",
       "      <td>2022-09-08 23:41:24</td>\n",
       "      <td>[17, 85]</td>\n",
       "    </tr>\n",
       "  </tbody>\n",
       "</table>\n",
       "<p>4337 rows × 8 columns</p>\n",
       "</div>"
      ],
      "text/plain": [
       "      user_id  order_id        action                       time       date  \\\n",
       "0         964      1255  create_order 2022-08-26 00:00:19.000000 2022-08-26   \n",
       "1         965      1256  create_order 2022-08-26 00:02:21.000000 2022-08-26   \n",
       "2         964      1257  create_order 2022-08-26 00:02:27.000000 2022-08-26   \n",
       "3         966      1258  create_order 2022-08-26 00:02:56.000000 2022-08-26   \n",
       "4         966      1258  cancel_order 2022-08-26 00:08:25.486419 2022-08-26   \n",
       "...       ...       ...           ...                        ...        ...   \n",
       "4332      990     59422  create_order 2022-09-08 23:13:03.000000 2022-09-08   \n",
       "4333     1418     59439  create_order 2022-09-08 23:18:05.000000 2022-09-08   \n",
       "4334     1605     59464  create_order 2022-09-08 23:22:27.000000 2022-09-08   \n",
       "4335     1461     59487  create_order 2022-09-08 23:29:06.000000 2022-09-08   \n",
       "4336     1376     59533  create_order 2022-09-08 23:41:24.000000 2022-09-08   \n",
       "\n",
       "      group       creation_time         product_ids  \n",
       "0         0 2022-08-26 00:00:19    [75, 22, 53, 84]  \n",
       "1         1 2022-08-26 00:02:21        [56, 76, 39]  \n",
       "2         0 2022-08-26 00:02:27    [76, 34, 41, 38]  \n",
       "3         0 2022-08-26 00:02:56             [74, 6]  \n",
       "4         0 2022-08-26 00:02:56             [74, 6]  \n",
       "...     ...                 ...                 ...  \n",
       "4332      1 2022-09-08 23:13:03         [84, 8, 24]  \n",
       "4333      1 2022-09-08 23:18:05  [9, 25, 75, 30, 6]  \n",
       "4334      0 2022-09-08 23:22:27        [60, 41, 46]  \n",
       "4335      0 2022-09-08 23:29:06         [9, 62, 77]  \n",
       "4336      0 2022-09-08 23:41:24            [17, 85]  \n",
       "\n",
       "[4337 rows x 8 columns]"
      ]
     },
     "execution_count": 26,
     "metadata": {},
     "output_type": "execute_result"
    }
   ],
   "source": [
    "# объединим таблицы orders и users в одну\n",
    "\n",
    "users_and_orders = users.merge(orders, on='order_id')\n",
    "users_and_orders"
   ]
  },
  {
   "cell_type": "code",
   "execution_count": 27,
   "metadata": {},
   "outputs": [
    {
     "data": {
      "text/html": [
       "<div>\n",
       "<style scoped>\n",
       "    .dataframe tbody tr th:only-of-type {\n",
       "        vertical-align: middle;\n",
       "    }\n",
       "\n",
       "    .dataframe tbody tr th {\n",
       "        vertical-align: top;\n",
       "    }\n",
       "\n",
       "    .dataframe thead th {\n",
       "        text-align: right;\n",
       "    }\n",
       "</style>\n",
       "<table border=\"1\" class=\"dataframe\">\n",
       "  <thead>\n",
       "    <tr style=\"text-align: right;\">\n",
       "      <th></th>\n",
       "      <th>user_id</th>\n",
       "      <th>order_id</th>\n",
       "      <th>action</th>\n",
       "      <th>time</th>\n",
       "      <th>date</th>\n",
       "      <th>group</th>\n",
       "      <th>creation_time</th>\n",
       "      <th>product_ids</th>\n",
       "      <th>product_names</th>\n",
       "      <th>total_price</th>\n",
       "    </tr>\n",
       "  </thead>\n",
       "  <tbody>\n",
       "    <tr>\n",
       "      <th>0</th>\n",
       "      <td>964</td>\n",
       "      <td>1255</td>\n",
       "      <td>create_order</td>\n",
       "      <td>2022-08-26 00:00:19.000000</td>\n",
       "      <td>2022-08-26</td>\n",
       "      <td>0</td>\n",
       "      <td>2022-08-26 00:00:19</td>\n",
       "      <td>[75, 22, 53, 84]</td>\n",
       "      <td>сок ананасовый, сок мультифрукт, мука, мандарины</td>\n",
       "      <td>408.7</td>\n",
       "    </tr>\n",
       "    <tr>\n",
       "      <th>1</th>\n",
       "      <td>965</td>\n",
       "      <td>1256</td>\n",
       "      <td>create_order</td>\n",
       "      <td>2022-08-26 00:02:21.000000</td>\n",
       "      <td>2022-08-26</td>\n",
       "      <td>1</td>\n",
       "      <td>2022-08-26 00:02:21</td>\n",
       "      <td>[56, 76, 39]</td>\n",
       "      <td>сосиски, чай черный в пакетиках, бублики</td>\n",
       "      <td>250.5</td>\n",
       "    </tr>\n",
       "    <tr>\n",
       "      <th>2</th>\n",
       "      <td>964</td>\n",
       "      <td>1257</td>\n",
       "      <td>create_order</td>\n",
       "      <td>2022-08-26 00:02:27.000000</td>\n",
       "      <td>2022-08-26</td>\n",
       "      <td>0</td>\n",
       "      <td>2022-08-26 00:02:27</td>\n",
       "      <td>[76, 34, 41, 38]</td>\n",
       "      <td>чай черный в пакетиках, макароны, вода газиров...</td>\n",
       "      <td>310.2</td>\n",
       "    </tr>\n",
       "    <tr>\n",
       "      <th>3</th>\n",
       "      <td>966</td>\n",
       "      <td>1258</td>\n",
       "      <td>create_order</td>\n",
       "      <td>2022-08-26 00:02:56.000000</td>\n",
       "      <td>2022-08-26</td>\n",
       "      <td>0</td>\n",
       "      <td>2022-08-26 00:02:56</td>\n",
       "      <td>[74, 6]</td>\n",
       "      <td>молоко, сухарики</td>\n",
       "      <td>85.0</td>\n",
       "    </tr>\n",
       "    <tr>\n",
       "      <th>4</th>\n",
       "      <td>966</td>\n",
       "      <td>1258</td>\n",
       "      <td>cancel_order</td>\n",
       "      <td>2022-08-26 00:08:25.486419</td>\n",
       "      <td>2022-08-26</td>\n",
       "      <td>0</td>\n",
       "      <td>2022-08-26 00:02:56</td>\n",
       "      <td>[74, 6]</td>\n",
       "      <td>молоко, сухарики</td>\n",
       "      <td>85.0</td>\n",
       "    </tr>\n",
       "  </tbody>\n",
       "</table>\n",
       "</div>"
      ],
      "text/plain": [
       "   user_id  order_id        action                       time       date  \\\n",
       "0      964      1255  create_order 2022-08-26 00:00:19.000000 2022-08-26   \n",
       "1      965      1256  create_order 2022-08-26 00:02:21.000000 2022-08-26   \n",
       "2      964      1257  create_order 2022-08-26 00:02:27.000000 2022-08-26   \n",
       "3      966      1258  create_order 2022-08-26 00:02:56.000000 2022-08-26   \n",
       "4      966      1258  cancel_order 2022-08-26 00:08:25.486419 2022-08-26   \n",
       "\n",
       "   group       creation_time       product_ids  \\\n",
       "0      0 2022-08-26 00:00:19  [75, 22, 53, 84]   \n",
       "1      1 2022-08-26 00:02:21      [56, 76, 39]   \n",
       "2      0 2022-08-26 00:02:27  [76, 34, 41, 38]   \n",
       "3      0 2022-08-26 00:02:56           [74, 6]   \n",
       "4      0 2022-08-26 00:02:56           [74, 6]   \n",
       "\n",
       "                                       product_names  total_price  \n",
       "0   сок ананасовый, сок мультифрукт, мука, мандарины        408.7  \n",
       "1           сосиски, чай черный в пакетиках, бублики        250.5  \n",
       "2  чай черный в пакетиках, макароны, вода газиров...        310.2  \n",
       "3                                   молоко, сухарики         85.0  \n",
       "4                                   молоко, сухарики         85.0  "
      ]
     },
     "execution_count": 27,
     "metadata": {},
     "output_type": "execute_result"
    }
   ],
   "source": [
    "# добавим два новых столбца со списком продуктов в корзине и общей суммой покупки\n",
    "\n",
    "users_and_orders[\"product_names\"] = users_and_orders[\"product_ids\"].apply(lambda x: \", \".join(products.loc[[int(c) for c in x], 'name']))\n",
    "\n",
    "users_and_orders[\"total_price\"] = users_and_orders[\"product_ids\"].apply(lambda x: products.loc[[int(c) for c in x], 'price'].sum())\n",
    "\n",
    "users_and_orders.head()"
   ]
  },
  {
   "cell_type": "code",
   "execution_count": 28,
   "metadata": {},
   "outputs": [
    {
     "data": {
      "text/html": [
       "<div>\n",
       "<style scoped>\n",
       "    .dataframe tbody tr th:only-of-type {\n",
       "        vertical-align: middle;\n",
       "    }\n",
       "\n",
       "    .dataframe tbody tr th {\n",
       "        vertical-align: top;\n",
       "    }\n",
       "\n",
       "    .dataframe thead th {\n",
       "        text-align: right;\n",
       "    }\n",
       "</style>\n",
       "<table border=\"1\" class=\"dataframe\">\n",
       "  <thead>\n",
       "    <tr style=\"text-align: right;\">\n",
       "      <th></th>\n",
       "      <th>user_id</th>\n",
       "      <th>group</th>\n",
       "      <th>amount</th>\n",
       "      <th>summa</th>\n",
       "    </tr>\n",
       "  </thead>\n",
       "  <tbody>\n",
       "    <tr>\n",
       "      <th>0</th>\n",
       "      <td>964</td>\n",
       "      <td>0</td>\n",
       "      <td>2</td>\n",
       "      <td>718.9</td>\n",
       "    </tr>\n",
       "    <tr>\n",
       "      <th>1</th>\n",
       "      <td>965</td>\n",
       "      <td>1</td>\n",
       "      <td>9</td>\n",
       "      <td>4155.5</td>\n",
       "    </tr>\n",
       "    <tr>\n",
       "      <th>2</th>\n",
       "      <td>966</td>\n",
       "      <td>0</td>\n",
       "      <td>1</td>\n",
       "      <td>170.0</td>\n",
       "    </tr>\n",
       "    <tr>\n",
       "      <th>3</th>\n",
       "      <td>967</td>\n",
       "      <td>1</td>\n",
       "      <td>5</td>\n",
       "      <td>1137.4</td>\n",
       "    </tr>\n",
       "    <tr>\n",
       "      <th>4</th>\n",
       "      <td>968</td>\n",
       "      <td>0</td>\n",
       "      <td>3</td>\n",
       "      <td>1590.7</td>\n",
       "    </tr>\n",
       "  </tbody>\n",
       "</table>\n",
       "</div>"
      ],
      "text/plain": [
       "   user_id  group  amount   summa\n",
       "0      964      0       2   718.9\n",
       "1      965      1       9  4155.5\n",
       "2      966      0       1   170.0\n",
       "3      967      1       5  1137.4\n",
       "4      968      0       3  1590.7"
      ]
     },
     "execution_count": 28,
     "metadata": {},
     "output_type": "execute_result"
    }
   ],
   "source": [
    "# посмотрим, как распределены количество заказов и общие суммы заказов по пользователям\n",
    "\n",
    "user_sum_ord = users_and_orders.groupby(['user_id','group'], as_index=False)  \\\n",
    "                         .agg({'order_id':'nunique', 'total_price':'sum'})  \\\n",
    "                         .rename(columns={'order_id':'amount', 'total_price':'summa'})\n",
    "user_sum_ord.head()"
   ]
  },
  {
   "cell_type": "code",
   "execution_count": 29,
   "metadata": {},
   "outputs": [
    {
     "data": {
      "text/plain": [
       "<matplotlib.axes._subplots.AxesSubplot at 0x7fdd24a7ddd8>"
      ]
     },
     "execution_count": 29,
     "metadata": {},
     "output_type": "execute_result"
    },
    {
     "data": {
      "image/png": "[encoded data removed]",
      "text/plain": [
       "<Figure size 720x432 with 1 Axes>"
      ]
     },
     "metadata": {},
     "output_type": "display_data"
    }
   ],
   "source": [
    "# построим диаграмму боксплот, разделив значения по группам\n",
    "\n",
    "sns.set(style='whitegrid', rc={'figure.figsize' : (10,6)})\n",
    "sns.boxplot(y='summa', x='group', data = user_sum_ord)"
   ]
  },
  {
   "cell_type": "markdown",
   "metadata": {},
   "source": [
    "На данной диаграмме видно, что в первой группе пользователей суммарная стоимость заказа каждого пользователя выше, чем в группе 0, медианное значение также расположено выше. Кроме того, размах значений группы 1 существенно больше группы 0.  \n",
    "\n",
    "**Проверим нормальность распределения по количеству и суммам заказов групп с помощью теста Шапиро-Уилка**"
   ]
  },
  {
   "cell_type": "code",
   "execution_count": 30,
   "metadata": {},
   "outputs": [
    {
     "name": "stdout",
     "output_type": "stream",
     "text": [
      "тест Шапиро-Уилка для количества товаров в заказе группы 0: \n",
      " ShapiroResult(statistic=0.8348702788352966, pvalue=1.0818117861129074e-22) \n",
      "\n",
      "тест Шапиро-Уилка для стоимости заказа группы 0: \n",
      " ShapiroResult(statistic=0.8934255838394165, pvalue=1.9825922824313846e-18)\n"
     ]
    }
   ],
   "source": [
    "# Группа 0\n",
    "\n",
    "shapiro_a0 = ss.shapiro(user_sum_ord.query('group==0').amount)\n",
    "print(f'тест Шапиро-Уилка для количества товаров в заказе группы 0: \\n {shapiro_a0} \\n')\n",
    "\n",
    "shapiro_s0 = ss.shapiro(user_sum_ord.query('group==0').summa)\n",
    "print(f'тест Шапиро-Уилка для стоимости заказа группы 0: \\n {shapiro_s0}')"
   ]
  },
  {
   "cell_type": "code",
   "execution_count": 31,
   "metadata": {},
   "outputs": [
    {
     "name": "stdout",
     "output_type": "stream",
     "text": [
      "тест Шапиро-Уилка для количества товаров в заказе группы 1: \n",
      " ShapiroResult(statistic=0.9596871137619019, pvalue=1.7252431427916548e-10) \n",
      "\n",
      "тест Шапиро-Уилка для стоимости заказа группы 1: \n",
      " ShapiroResult(statistic=0.9725738167762756, pvalue=4.3736186228215956e-08)\n"
     ]
    }
   ],
   "source": [
    "# Группа 1\n",
    "\n",
    "shapiro_a1 = ss.shapiro(user_sum_ord.query('group==1').amount)\n",
    "print(f'тест Шапиро-Уилка для количества товаров в заказе группы 1: \\n {shapiro_a1} \\n')\n",
    "\n",
    "shapiro_s1 = ss.shapiro(user_sum_ord.query('group==1').summa)\n",
    "print(f'тест Шапиро-Уилка для стоимости заказа группы 1: \\n {shapiro_s1}')"
   ]
  },
  {
   "cell_type": "code",
   "execution_count": 32,
   "metadata": {},
   "outputs": [
    {
     "data": {
      "text/html": [
       "<div>\n",
       "<style scoped>\n",
       "    .dataframe tbody tr th:only-of-type {\n",
       "        vertical-align: middle;\n",
       "    }\n",
       "\n",
       "    .dataframe tbody tr th {\n",
       "        vertical-align: top;\n",
       "    }\n",
       "\n",
       "    .dataframe thead th {\n",
       "        text-align: right;\n",
       "    }\n",
       "</style>\n",
       "<table border=\"1\" class=\"dataframe\">\n",
       "  <thead>\n",
       "    <tr style=\"text-align: right;\">\n",
       "      <th></th>\n",
       "      <th>W</th>\n",
       "      <th>pval</th>\n",
       "      <th>normal</th>\n",
       "    </tr>\n",
       "  </thead>\n",
       "  <tbody>\n",
       "    <tr>\n",
       "      <th>0</th>\n",
       "      <td>152.128172</td>\n",
       "      <td>9.242453e-34</td>\n",
       "      <td>False</td>\n",
       "    </tr>\n",
       "    <tr>\n",
       "      <th>1</th>\n",
       "      <td>32.126612</td>\n",
       "      <td>1.056318e-07</td>\n",
       "      <td>False</td>\n",
       "    </tr>\n",
       "  </tbody>\n",
       "</table>\n",
       "</div>"
      ],
      "text/plain": [
       "            W          pval  normal\n",
       "0  152.128172  9.242453e-34   False\n",
       "1   32.126612  1.056318e-07   False"
      ]
     },
     "execution_count": 32,
     "metadata": {},
     "output_type": "execute_result"
    }
   ],
   "source": [
    "#через pingouin\n",
    "\n",
    "pg.normality(data=user_sum_ord, dv=\"amount\", group=\"group\", method=\"normaltest\")\n",
    "\n",
    "pg.normality(data=user_sum_ord, dv=\"summa\", group=\"group\", method=\"normaltest\")"
   ]
  },
  {
   "cell_type": "code",
   "execution_count": 33,
   "metadata": {},
   "outputs": [
    {
     "data": {
      "text/plain": [
       "<matplotlib.axes._subplots.AxesSubplot at 0x7fdd249ab518>"
      ]
     },
     "execution_count": 33,
     "metadata": {},
     "output_type": "execute_result"
    },
    {
     "data": {
      "image/png": "[encoded data removed]",
      "text/plain": [
       "<Figure size 360x288 with 1 Axes>"
      ]
     },
     "metadata": {},
     "output_type": "display_data"
    },
    {
     "data": {
      "image/png": "[encoded data removed]",
      "text/plain": [
       "<Figure size 360x288 with 1 Axes>"
      ]
     },
     "metadata": {},
     "output_type": "display_data"
    }
   ],
   "source": [
    "# построим qq-plot графики\n",
    "\n",
    "pg.qqplot(user_sum_ord.query('group==0').summa)\n",
    "pg.qqplot(user_sum_ord.query('group==1').summa)"
   ]
  },
  {
   "cell_type": "markdown",
   "metadata": {},
   "source": [
    "**Вывод:**\n",
    "На основе проведенных тестов Шапиро-Уилка, а также через метод qq-plot модуля pingouin мы можем заключить, что распределение наблюдений обеих метрик внутри групп (количества и суммы заказа по пользователю) **не является нормальным**, так как во всех случаях p-value имеет очень небольшое значение и существенно меньше 0,05. На графиках qq-plot наблюдается существенное отклонение  \n",
    "\n",
    "**Проверяем гомогенность дисперсий внутри групп с помощью метода Левена**"
   ]
  },
  {
   "cell_type": "code",
   "execution_count": 34,
   "metadata": {},
   "outputs": [
    {
     "data": {
      "text/plain": [
       "LeveneResult(statistic=18.39458896191686, pvalue=1.9670519137719107e-05)"
      ]
     },
     "execution_count": 34,
     "metadata": {},
     "output_type": "execute_result"
    }
   ],
   "source": [
    "#через scipy\n",
    "\n",
    "ss.levene(user_sum_ord.query('group==0').summa, user_sum_ord.query('group==1').summa)\n",
    "#ss.levene(user_sum_ord.query('group==0').amount, user_sum_ord.query('group==1').amount)"
   ]
  },
  {
   "cell_type": "code",
   "execution_count": 35,
   "metadata": {},
   "outputs": [
    {
     "data": {
      "text/html": [
       "<div>\n",
       "<style scoped>\n",
       "    .dataframe tbody tr th:only-of-type {\n",
       "        vertical-align: middle;\n",
       "    }\n",
       "\n",
       "    .dataframe tbody tr th {\n",
       "        vertical-align: top;\n",
       "    }\n",
       "\n",
       "    .dataframe thead th {\n",
       "        text-align: right;\n",
       "    }\n",
       "</style>\n",
       "<table border=\"1\" class=\"dataframe\">\n",
       "  <thead>\n",
       "    <tr style=\"text-align: right;\">\n",
       "      <th></th>\n",
       "      <th>W</th>\n",
       "      <th>pval</th>\n",
       "      <th>equal_var</th>\n",
       "    </tr>\n",
       "  </thead>\n",
       "  <tbody>\n",
       "    <tr>\n",
       "      <th>levene</th>\n",
       "      <td>16.16773</td>\n",
       "      <td>0.000062</td>\n",
       "      <td>False</td>\n",
       "    </tr>\n",
       "  </tbody>\n",
       "</table>\n",
       "</div>"
      ],
      "text/plain": [
       "               W      pval  equal_var\n",
       "levene  16.16773  0.000062      False"
      ]
     },
     "execution_count": 35,
     "metadata": {},
     "output_type": "execute_result"
    }
   ],
   "source": [
    "#через pingouin\n",
    "\n",
    "pg.homoscedasticity(data=user_sum_ord, dv=\"amount\", group=\"group\")"
   ]
  },
  {
   "cell_type": "markdown",
   "metadata": {},
   "source": [
    "В результате проведенного теста Левена - делаем вывод о том, что дисперсии не гомогенны.\n",
    "\n",
    "**Теперь проверим наши метрики с помощью методов дисперсионного анализа ANOVA**"
   ]
  },
  {
   "cell_type": "code",
   "execution_count": 36,
   "metadata": {},
   "outputs": [
    {
     "data": {
      "text/plain": [
       "F_onewayResult(statistic=136.55780558448708, pvalue=1.0901045699349648e-29)"
      ]
     },
     "execution_count": 36,
     "metadata": {},
     "output_type": "execute_result"
    }
   ],
   "source": [
    "# ANOVA\n",
    "\n",
    "ss.f_oneway(user_sum_ord.query('group==0').summa, user_sum_ord.query('group==1').summa)"
   ]
  },
  {
   "cell_type": "code",
   "execution_count": 37,
   "metadata": {},
   "outputs": [
    {
     "data": {
      "text/html": [
       "<div>\n",
       "<style scoped>\n",
       "    .dataframe tbody tr th:only-of-type {\n",
       "        vertical-align: middle;\n",
       "    }\n",
       "\n",
       "    .dataframe tbody tr th {\n",
       "        vertical-align: top;\n",
       "    }\n",
       "\n",
       "    .dataframe thead th {\n",
       "        text-align: right;\n",
       "    }\n",
       "</style>\n",
       "<table border=\"1\" class=\"dataframe\">\n",
       "  <thead>\n",
       "    <tr style=\"text-align: right;\">\n",
       "      <th></th>\n",
       "      <th>Source</th>\n",
       "      <th>ddof1</th>\n",
       "      <th>ddof2</th>\n",
       "      <th>F</th>\n",
       "      <th>p-unc</th>\n",
       "      <th>np2</th>\n",
       "    </tr>\n",
       "  </thead>\n",
       "  <tbody>\n",
       "    <tr>\n",
       "      <th>0</th>\n",
       "      <td>group</td>\n",
       "      <td>1</td>\n",
       "      <td>1015</td>\n",
       "      <td>136.557806</td>\n",
       "      <td>1.090105e-29</td>\n",
       "      <td>0.118585</td>\n",
       "    </tr>\n",
       "  </tbody>\n",
       "</table>\n",
       "</div>"
      ],
      "text/plain": [
       "  Source  ddof1  ddof2           F         p-unc       np2\n",
       "0  group      1   1015  136.557806  1.090105e-29  0.118585"
      ]
     },
     "execution_count": 37,
     "metadata": {},
     "output_type": "execute_result"
    }
   ],
   "source": [
    "# через pingouin\n",
    "\n",
    "pg.anova(data=user_sum_ord, dv=\"summa\", between=\"group\")"
   ]
  },
  {
   "cell_type": "code",
   "execution_count": 38,
   "metadata": {},
   "outputs": [
    {
     "data": {
      "text/html": [
       "<div>\n",
       "<style scoped>\n",
       "    .dataframe tbody tr th:only-of-type {\n",
       "        vertical-align: middle;\n",
       "    }\n",
       "\n",
       "    .dataframe tbody tr th {\n",
       "        vertical-align: top;\n",
       "    }\n",
       "\n",
       "    .dataframe thead th {\n",
       "        text-align: right;\n",
       "    }\n",
       "</style>\n",
       "<table border=\"1\" class=\"dataframe\">\n",
       "  <thead>\n",
       "    <tr style=\"text-align: right;\">\n",
       "      <th></th>\n",
       "      <th>Source</th>\n",
       "      <th>ddof1</th>\n",
       "      <th>ddof2</th>\n",
       "      <th>F</th>\n",
       "      <th>p-unc</th>\n",
       "      <th>np2</th>\n",
       "    </tr>\n",
       "  </thead>\n",
       "  <tbody>\n",
       "    <tr>\n",
       "      <th>0</th>\n",
       "      <td>group</td>\n",
       "      <td>1</td>\n",
       "      <td>981.806998</td>\n",
       "      <td>136.004647</td>\n",
       "      <td>1.589864e-29</td>\n",
       "      <td>0.118585</td>\n",
       "    </tr>\n",
       "  </tbody>\n",
       "</table>\n",
       "</div>"
      ],
      "text/plain": [
       "  Source  ddof1       ddof2           F         p-unc       np2\n",
       "0  group      1  981.806998  136.004647  1.589864e-29  0.118585"
      ]
     },
     "execution_count": 38,
     "metadata": {},
     "output_type": "execute_result"
    }
   ],
   "source": [
    "# тест Уэлча в pingouin\n",
    "\n",
    "pg.welch_anova(data=user_sum_ord, dv=\"summa\", between=\"group\")"
   ]
  },
  {
   "cell_type": "markdown",
   "metadata": {},
   "source": [
    "**Вывод:**  \n",
    "Проведя дисперсионный анализ методом ANOVA, а также тест Уэлча, мы также отклоняем гипотезу Н0, и делаем вывод, что дисперсии двух групп не гомогенны и имеют существенные статистические различия. \n",
    "\n",
    "Соответственно, далее рассмотрим и сравним средние суммы заказов по пользователям. "
   ]
  },
  {
   "cell_type": "code",
   "execution_count": 39,
   "metadata": {},
   "outputs": [
    {
     "data": {
      "text/html": [
       "<div>\n",
       "<style scoped>\n",
       "    .dataframe tbody tr th:only-of-type {\n",
       "        vertical-align: middle;\n",
       "    }\n",
       "\n",
       "    .dataframe tbody tr th {\n",
       "        vertical-align: top;\n",
       "    }\n",
       "\n",
       "    .dataframe thead th {\n",
       "        text-align: right;\n",
       "    }\n",
       "</style>\n",
       "<table border=\"1\" class=\"dataframe\">\n",
       "  <thead>\n",
       "    <tr style=\"text-align: right;\">\n",
       "      <th></th>\n",
       "      <th>user_id</th>\n",
       "      <th>group</th>\n",
       "      <th>amount</th>\n",
       "      <th>avg</th>\n",
       "    </tr>\n",
       "  </thead>\n",
       "  <tbody>\n",
       "    <tr>\n",
       "      <th>0</th>\n",
       "      <td>964</td>\n",
       "      <td>0</td>\n",
       "      <td>2</td>\n",
       "      <td>359.450000</td>\n",
       "    </tr>\n",
       "    <tr>\n",
       "      <th>1</th>\n",
       "      <td>965</td>\n",
       "      <td>1</td>\n",
       "      <td>9</td>\n",
       "      <td>461.722222</td>\n",
       "    </tr>\n",
       "    <tr>\n",
       "      <th>2</th>\n",
       "      <td>966</td>\n",
       "      <td>0</td>\n",
       "      <td>1</td>\n",
       "      <td>85.000000</td>\n",
       "    </tr>\n",
       "    <tr>\n",
       "      <th>3</th>\n",
       "      <td>967</td>\n",
       "      <td>1</td>\n",
       "      <td>5</td>\n",
       "      <td>227.480000</td>\n",
       "    </tr>\n",
       "    <tr>\n",
       "      <th>4</th>\n",
       "      <td>968</td>\n",
       "      <td>0</td>\n",
       "      <td>3</td>\n",
       "      <td>530.233333</td>\n",
       "    </tr>\n",
       "  </tbody>\n",
       "</table>\n",
       "</div>"
      ],
      "text/plain": [
       "   user_id  group  amount         avg\n",
       "0      964      0       2  359.450000\n",
       "1      965      1       9  461.722222\n",
       "2      966      0       1   85.000000\n",
       "3      967      1       5  227.480000\n",
       "4      968      0       3  530.233333"
      ]
     },
     "execution_count": 39,
     "metadata": {},
     "output_type": "execute_result"
    }
   ],
   "source": [
    "# посмотрим, как распределены количество заказов и средние суммы заказов по пользователям\n",
    "\n",
    "user_avg_ord = users_and_orders.groupby(['user_id', 'group'], as_index=False)  \\\n",
    "                         .agg({'order_id':'nunique', 'total_price':'mean'})  \\\n",
    "                         .rename(columns={'order_id':'amount', 'total_price':'avg'})\n",
    "user_avg_ord.head()"
   ]
  },
  {
   "cell_type": "code",
   "execution_count": 40,
   "metadata": {},
   "outputs": [
    {
     "data": {
      "text/plain": [
       "<matplotlib.axes._subplots.AxesSubplot at 0x7fdd24844390>"
      ]
     },
     "execution_count": 40,
     "metadata": {},
     "output_type": "execute_result"
    },
    {
     "data": {
      "image/png": "[encoded data removed]",
      "text/plain": [
       "<Figure size 720x432 with 1 Axes>"
      ]
     },
     "metadata": {},
     "output_type": "display_data"
    }
   ],
   "source": [
    "# построим диаграмму боксплот средней стоимости заказов пользователей\n",
    "\n",
    "sns.set(style='whitegrid', rc={'figure.figsize' : (10,6)})\n",
    "sns.boxplot(y='avg', x='group', data = user_avg_ord)"
   ]
  },
  {
   "cell_type": "markdown",
   "metadata": {},
   "source": [
    "На данной диаграмме видим, что средняя стоимость заказов в пределах группы 0 и группы 1 не сильно отличается, медианное значение обеих групп распологаются примерно на одном уровне. Однако размах средних значений группы 1 уже, чем размах средних значений группы 0."
   ]
  },
  {
   "cell_type": "code",
   "execution_count": 41,
   "metadata": {},
   "outputs": [
    {
     "data": {
      "text/html": [
       "<div>\n",
       "<style scoped>\n",
       "    .dataframe tbody tr th:only-of-type {\n",
       "        vertical-align: middle;\n",
       "    }\n",
       "\n",
       "    .dataframe tbody tr th {\n",
       "        vertical-align: top;\n",
       "    }\n",
       "\n",
       "    .dataframe thead th {\n",
       "        text-align: right;\n",
       "    }\n",
       "</style>\n",
       "<table border=\"1\" class=\"dataframe\">\n",
       "  <thead>\n",
       "    <tr style=\"text-align: right;\">\n",
       "      <th></th>\n",
       "      <th>W</th>\n",
       "      <th>pval</th>\n",
       "      <th>normal</th>\n",
       "    </tr>\n",
       "  </thead>\n",
       "  <tbody>\n",
       "    <tr>\n",
       "      <th>0</th>\n",
       "      <td>53.288835</td>\n",
       "      <td>2.682110e-12</td>\n",
       "      <td>False</td>\n",
       "    </tr>\n",
       "    <tr>\n",
       "      <th>1</th>\n",
       "      <td>67.695100</td>\n",
       "      <td>1.996162e-15</td>\n",
       "      <td>False</td>\n",
       "    </tr>\n",
       "  </tbody>\n",
       "</table>\n",
       "</div>"
      ],
      "text/plain": [
       "           W          pval  normal\n",
       "0  53.288835  2.682110e-12   False\n",
       "1  67.695100  1.996162e-15   False"
      ]
     },
     "execution_count": 41,
     "metadata": {},
     "output_type": "execute_result"
    }
   ],
   "source": [
    "# проверяем нормальность распределения через pingouin\n",
    "\n",
    "pg.normality(data=user_avg_ord, dv=\"avg\", group=\"group\", method=\"normaltest\")"
   ]
  },
  {
   "cell_type": "code",
   "execution_count": 42,
   "metadata": {},
   "outputs": [
    {
     "data": {
      "text/plain": [
       "<matplotlib.axes._subplots.AxesSubplot at 0x7fdd247767f0>"
      ]
     },
     "execution_count": 42,
     "metadata": {},
     "output_type": "execute_result"
    },
    {
     "data": {
      "image/png": "[encoded data removed]",
      "text/plain": [
       "<Figure size 360x288 with 1 Axes>"
      ]
     },
     "metadata": {},
     "output_type": "display_data"
    },
    {
     "data": {
      "image/png": "[encoded data removed]",
      "text/plain": [
       "<Figure size 360x288 with 1 Axes>"
      ]
     },
     "metadata": {},
     "output_type": "display_data"
    }
   ],
   "source": [
    "pg.qqplot(user_avg_ord.query('group==1').avg)\n",
    "pg.qqplot(user_avg_ord.query('group==0').avg)"
   ]
  },
  {
   "cell_type": "code",
   "execution_count": 43,
   "metadata": {},
   "outputs": [
    {
     "data": {
      "text/plain": [
       "F_onewayResult(statistic=0.9221231014791772, pvalue=0.3371468230263419)"
      ]
     },
     "execution_count": 43,
     "metadata": {},
     "output_type": "execute_result"
    }
   ],
   "source": [
    "# сравним средние однофакторным дисперсионным анализом\n",
    "\n",
    "ss.f_oneway(user_avg_ord.query('group==1').avg, user_avg_ord.query('group==0').avg)"
   ]
  },
  {
   "cell_type": "code",
   "execution_count": 44,
   "metadata": {},
   "outputs": [
    {
     "data": {
      "text/html": [
       "<div>\n",
       "<style scoped>\n",
       "    .dataframe tbody tr th:only-of-type {\n",
       "        vertical-align: middle;\n",
       "    }\n",
       "\n",
       "    .dataframe tbody tr th {\n",
       "        vertical-align: top;\n",
       "    }\n",
       "\n",
       "    .dataframe thead th {\n",
       "        text-align: right;\n",
       "    }\n",
       "</style>\n",
       "<table border=\"1\" class=\"dataframe\">\n",
       "  <thead>\n",
       "    <tr style=\"text-align: right;\">\n",
       "      <th></th>\n",
       "      <th>A</th>\n",
       "      <th>B</th>\n",
       "      <th>mean(A)</th>\n",
       "      <th>mean(B)</th>\n",
       "      <th>diff</th>\n",
       "      <th>se</th>\n",
       "      <th>T</th>\n",
       "      <th>p-tukey</th>\n",
       "      <th>hedges</th>\n",
       "    </tr>\n",
       "  </thead>\n",
       "  <tbody>\n",
       "    <tr>\n",
       "      <th>0</th>\n",
       "      <td>0</td>\n",
       "      <td>1</td>\n",
       "      <td>382.174954</td>\n",
       "      <td>373.282613</td>\n",
       "      <td>8.892341</td>\n",
       "      <td>9.260227</td>\n",
       "      <td>0.960272</td>\n",
       "      <td>0.337145</td>\n",
       "      <td>0.060184</td>\n",
       "    </tr>\n",
       "  </tbody>\n",
       "</table>\n",
       "</div>"
      ],
      "text/plain": [
       "   A  B     mean(A)     mean(B)      diff        se         T   p-tukey  \\\n",
       "0  0  1  382.174954  373.282613  8.892341  9.260227  0.960272  0.337145   \n",
       "\n",
       "     hedges  \n",
       "0  0.060184  "
      ]
     },
     "execution_count": 44,
     "metadata": {},
     "output_type": "execute_result"
    }
   ],
   "source": [
    "# метод Тьюки через pingouin\n",
    "\n",
    "pg.pairwise_tukey(data=user_avg_ord, dv=\"avg\", between=\"group\")"
   ]
  },
  {
   "cell_type": "code",
   "execution_count": 45,
   "metadata": {},
   "outputs": [
    {
     "data": {
      "image/png": "[encoded data removed]",
      "text/plain": [
       "<Figure size 576x288 with 1 Axes>"
      ]
     },
     "metadata": {},
     "output_type": "display_data"
    }
   ],
   "source": [
    "# построим диаграмму распределения средних значений двух групп\n",
    "\n",
    "sns.set(rc={'figure.figsize':(8,4)})\n",
    "sns.histplot(user_avg_ord, x='avg', bins=50, hue='group')\n",
    "sns.despine()"
   ]
  },
  {
   "cell_type": "markdown",
   "metadata": {},
   "source": [
    "В ходе проведенного однофакторного анализа, получили Значение статистики равным 0.922, а р-уровень значимости составил 0.337. Практически такие же результаты получены методом Тьюки. Это дает нам право принять нулевую гипотезу о равенстве средних."
   ]
  },
  {
   "cell_type": "code",
   "execution_count": 46,
   "metadata": {},
   "outputs": [
    {
     "data": {
      "text/html": [
       "<div>\n",
       "<style scoped>\n",
       "    .dataframe tbody tr th:only-of-type {\n",
       "        vertical-align: middle;\n",
       "    }\n",
       "\n",
       "    .dataframe tbody tr th {\n",
       "        vertical-align: top;\n",
       "    }\n",
       "\n",
       "    .dataframe thead th {\n",
       "        text-align: right;\n",
       "    }\n",
       "</style>\n",
       "<table border=\"1\" class=\"dataframe\">\n",
       "  <thead>\n",
       "    <tr style=\"text-align: right;\">\n",
       "      <th></th>\n",
       "      <th>group</th>\n",
       "      <th>action</th>\n",
       "      <th>count</th>\n",
       "      <th>summa</th>\n",
       "    </tr>\n",
       "  </thead>\n",
       "  <tbody>\n",
       "    <tr>\n",
       "      <th>0</th>\n",
       "      <td>0</td>\n",
       "      <td>cancel_order</td>\n",
       "      <td>82</td>\n",
       "      <td>30032.9</td>\n",
       "    </tr>\n",
       "    <tr>\n",
       "      <th>1</th>\n",
       "      <td>0</td>\n",
       "      <td>create_order</td>\n",
       "      <td>1609</td>\n",
       "      <td>613488.8</td>\n",
       "    </tr>\n",
       "    <tr>\n",
       "      <th>2</th>\n",
       "      <td>1</td>\n",
       "      <td>cancel_order</td>\n",
       "      <td>132</td>\n",
       "      <td>50603.6</td>\n",
       "    </tr>\n",
       "    <tr>\n",
       "      <th>3</th>\n",
       "      <td>1</td>\n",
       "      <td>create_order</td>\n",
       "      <td>2514</td>\n",
       "      <td>929232.0</td>\n",
       "    </tr>\n",
       "  </tbody>\n",
       "</table>\n",
       "</div>"
      ],
      "text/plain": [
       "   group        action  count     summa\n",
       "0      0  cancel_order     82   30032.9\n",
       "1      0  create_order   1609  613488.8\n",
       "2      1  cancel_order    132   50603.6\n",
       "3      1  create_order   2514  929232.0"
      ]
     },
     "execution_count": 46,
     "metadata": {},
     "output_type": "execute_result"
    }
   ],
   "source": [
    "# посмотрим, как распределены общие суммы созданных и отмененных заказов по группам\n",
    "\n",
    "groups = users_and_orders.groupby(['group', 'action'])  \\\n",
    "                         .agg({'action':'count', 'total_price':'sum'})  \\\n",
    "                         .rename(columns={'action':'count', 'total_price':'summa'}) \\\n",
    "                         .reset_index() \n",
    "\n",
    "groups                                                #.query(\"action == 'create_order'\")"
   ]
  },
  {
   "cell_type": "code",
   "execution_count": 47,
   "metadata": {},
   "outputs": [
    {
     "data": {
      "text/plain": [
       "2    5.164499\n",
       "Name: summa, dtype: float64"
      ]
     },
     "execution_count": 47,
     "metadata": {},
     "output_type": "execute_result"
    }
   ],
   "source": [
    "# Процентная доля отмененных заказо в группе 1\n",
    "\n",
    "g1 = groups.query(\"group == 1 and action == 'cancel_order'\").summa / groups.query(\"group == 1\").summa.sum()*100\n",
    "g1"
   ]
  },
  {
   "cell_type": "code",
   "execution_count": 48,
   "metadata": {},
   "outputs": [
    {
     "data": {
      "text/plain": [
       "0    4.66696\n",
       "Name: summa, dtype: float64"
      ]
     },
     "execution_count": 48,
     "metadata": {},
     "output_type": "execute_result"
    }
   ],
   "source": [
    "# Процентная доля отмененных заказо в группе 0\n",
    "\n",
    "g0 = groups.query(\"group == 0 and action == 'cancel_order'\").summa / groups.query(\"group == 0\").summa.sum()*100\n",
    "g0"
   ]
  },
  {
   "cell_type": "code",
   "execution_count": 49,
   "metadata": {},
   "outputs": [
    {
     "data": {
      "text/plain": [
       "583455.9"
      ]
     },
     "execution_count": 49,
     "metadata": {},
     "output_type": "execute_result"
    }
   ],
   "source": [
    "# Суммарная стоимость всех заказов группы 0\n",
    "\n",
    "g0_itog_sum = groups.loc[groups['group'] == 0, 'summa'].iloc[1] - groups.loc[groups['group'] == 0, 'summa'].iloc[0]\n",
    "g0_itog_sum.round(2) "
   ]
  },
  {
   "cell_type": "code",
   "execution_count": 50,
   "metadata": {},
   "outputs": [
    {
     "data": {
      "text/plain": [
       "878628.4"
      ]
     },
     "execution_count": 50,
     "metadata": {},
     "output_type": "execute_result"
    }
   ],
   "source": [
    "# Суммарная стоимость всех заказов группы 1\n",
    "\n",
    "g1_itog_sum = groups.loc[groups['group'] == 1, 'summa'].iloc[1] - groups.loc[groups['group'] == 1, 'summa'].iloc[0]\n",
    "g1_itog_sum.round(2)"
   ]
  },
  {
   "cell_type": "markdown",
   "metadata": {},
   "source": [
    "Суммарная стоимость всех заказов группы 1 (878628.4) также существенно отличается от суммарной стоимости группы 0 (583455.9), но это логично, так как в первой группе самих заказов также больше."
   ]
  },
  {
   "cell_type": "code",
   "execution_count": 51,
   "metadata": {},
   "outputs": [
    {
     "data": {
      "text/plain": [
       "<matplotlib.axes._subplots.AxesSubplot at 0x7fdd24697f28>"
      ]
     },
     "execution_count": 51,
     "metadata": {},
     "output_type": "execute_result"
    },
    {
     "data": {
      "image/png": "[encoded data removed]",
      "text/plain": [
       "<Figure size 576x288 with 1 Axes>"
      ]
     },
     "metadata": {},
     "output_type": "display_data"
    }
   ],
   "source": [
    "# визуализируем полученные результаты - построим график взаимодействия \n",
    "\n",
    "sns.pointplot(x=\"group\", y=\"summa\", hue=\"action\", data=groups, capsize=0.2)"
   ]
  },
  {
   "cell_type": "markdown",
   "metadata": {},
   "source": [
    "**Вывод**   \n",
    "По графику мы видим взаимодействие факторов между группами: увеличилась общая сумма всех заказов в группе 1 по сравнению с группой 0, при этом сумма отмененных заказов изменилась не сильно, что в целом хорошо. Поэтому принимаем решение - **включить новую  систему рекомендаций на всех пользователей.**"
   ]
  },
  {
   "cell_type": "code",
   "execution_count": null,
   "metadata": {},
   "outputs": [],
   "source": []
  },
  {
   "cell_type": "code",
   "execution_count": null,
   "metadata": {},
   "outputs": [],
   "source": []
  },
  {
   "cell_type": "code",
   "execution_count": null,
   "metadata": {},
   "outputs": [],
   "source": []
  },
  {
   "cell_type": "code",
   "execution_count": null,
   "metadata": {},
   "outputs": [],
   "source": []
  },
  {
   "cell_type": "markdown",
   "metadata": {},
   "source": [
    "Внести правки:\n",
    "- отменённые заказы тоже имеют статус созданных, поэтому простой фильтрации по статусу создания недостаточно; \n",
    "- посмотреть на количество заказов, так как выручка выросла именно из-за них."
   ]
  },
  {
   "cell_type": "code",
   "execution_count": null,
   "metadata": {},
   "outputs": [],
   "source": []
  },
  {
   "cell_type": "code",
   "execution_count": null,
   "metadata": {},
   "outputs": [],
   "source": []
  }
 ],
 "metadata": {
  "kernelspec": {
   "display_name": "Python 3",
   "language": "python",
   "name": "python3"
  },
  "language_info": {
   "codemirror_mode": {
    "name": "ipython",
    "version": 3
   },
   "file_extension": ".py",
   "mimetype": "text/x-python",
   "name": "python",
   "nbconvert_exporter": "python",
   "pygments_lexer": "ipython3",
   "version": "3.7.3"
  }
 },
 "nbformat": 4,
 "nbformat_minor": 4
}
